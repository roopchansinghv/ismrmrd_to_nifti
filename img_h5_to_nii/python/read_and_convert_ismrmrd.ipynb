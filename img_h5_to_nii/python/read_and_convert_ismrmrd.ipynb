{
 "cells": [
  {
   "cell_type": "code",
   "execution_count": null,
   "metadata": {},
   "outputs": [],
   "source": [
    "import   os\n",
    "import   sys\n",
    "import   numpy          as       np\n",
    "import   ismrmrd        as       mrd\n",
    "import   ismrmrd.xsd\n",
    "from     matplotlib     import   pyplot   as plt\n",
    "import   h5py\n",
    "import   nibabel        as       nib"
   ]
  },
  {
   "cell_type": "markdown",
   "metadata": {},
   "source": [
    "## First - read in file with reconstructed image data"
   ]
  },
  {
   "cell_type": "code",
   "execution_count": null,
   "metadata": {},
   "outputs": [],
   "source": [
    "dataset_to_convert = 'reconstructed_data.h5'"
   ]
  },
  {
   "cell_type": "code",
   "execution_count": null,
   "metadata": {},
   "outputs": [],
   "source": [
    "f = h5py.File(dataset_to_convert, 'r')"
   ]
  },
  {
   "cell_type": "code",
   "execution_count": null,
   "metadata": {},
   "outputs": [],
   "source": [
    "f"
   ]
  },
  {
   "cell_type": "code",
   "execution_count": null,
   "metadata": {},
   "outputs": [],
   "source": [
    "f.keys()"
   ]
  },
  {
   "cell_type": "code",
   "execution_count": null,
   "metadata": {},
   "outputs": [],
   "source": [
    "hdf_groups_keys_in_file = list(f.keys())"
   ]
  },
  {
   "cell_type": "code",
   "execution_count": null,
   "metadata": {},
   "outputs": [],
   "source": [
    "hdf_groups_keys_in_file"
   ]
  },
  {
   "cell_type": "code",
   "execution_count": null,
   "metadata": {},
   "outputs": [],
   "source": [
    "for key in hdf_groups_keys_in_file:\n",
    "   print(f[key])"
   ]
  },
  {
   "cell_type": "code",
   "execution_count": null,
   "metadata": {},
   "outputs": [],
   "source": [
    "group_sub_keys = list()\n",
    "\n",
    "for group_key in hdf_groups_keys_in_file:\n",
    "   group_sub_keys.append(list(f[group_key].keys()))"
   ]
  },
  {
   "cell_type": "code",
   "execution_count": null,
   "metadata": {},
   "outputs": [],
   "source": [
    "group_sub_keys"
   ]
  },
  {
   "cell_type": "code",
   "execution_count": null,
   "metadata": {},
   "outputs": [],
   "source": [
    "len(group_sub_keys)"
   ]
  },
  {
   "cell_type": "code",
   "execution_count": null,
   "metadata": {},
   "outputs": [],
   "source": [
    "test_keys = list(f['2021-12-21 16:24:14']['image_0'].keys())"
   ]
  },
  {
   "cell_type": "code",
   "execution_count": null,
   "metadata": {},
   "outputs": [],
   "source": [
    "test_keys"
   ]
  },
  {
   "cell_type": "code",
   "execution_count": null,
   "metadata": {},
   "outputs": [],
   "source": [
    "f['2021-12-21 16:24:14']['image_0']['data']"
   ]
  },
  {
   "cell_type": "code",
   "execution_count": null,
   "metadata": {},
   "outputs": [],
   "source": [
    "f['2021-12-21 16:24:14']['image_0']['header']"
   ]
  },
  {
   "cell_type": "code",
   "execution_count": null,
   "metadata": {},
   "outputs": [],
   "source": [
    "datasets = []\n",
    "\n",
    "for group_key in hdf_groups_keys_in_file:\n",
    "   # dataset_views = []\n",
    "   # print(\"group key is: %s\" % str(group_key))\n",
    "   for i in range(len(group_sub_keys)):\n",
    "\n",
    "      for key in group_sub_keys[i]:\n",
    "         # dataset_views.append(f[group_key][key])\n",
    "         # print(\"data set: %s\" % f[group_key][key])\n",
    "         view_keys = list(f[group_key][key].keys())\n",
    "\n",
    "         for member in range(len(view_keys)):\n",
    "            # print(\"key %d: %s\" % (member, view_keys[member]))\n",
    "            member_key = f[group_key][key][view_keys[member]]\n",
    "\n",
    "            datasets.append(member_key)\n",
    "\n",
    "datasets"
   ]
  },
  {
   "cell_type": "code",
   "execution_count": null,
   "metadata": {},
   "outputs": [],
   "source": [
    "datasets[2][0]"
   ]
  },
  {
   "cell_type": "code",
   "execution_count": null,
   "metadata": {},
   "outputs": [],
   "source": [
    "datasets[2][0]['matrix_size']"
   ]
  },
  {
   "cell_type": "code",
   "execution_count": null,
   "metadata": {},
   "outputs": [],
   "source": [
    "f.close()"
   ]
  },
  {
   "cell_type": "code",
   "execution_count": null,
   "metadata": {},
   "outputs": [],
   "source": []
  },
  {
   "cell_type": "code",
   "execution_count": null,
   "metadata": {},
   "outputs": [],
   "source": []
  },
  {
   "cell_type": "code",
   "execution_count": null,
   "metadata": {},
   "outputs": [],
   "source": []
  },
  {
   "cell_type": "markdown",
   "metadata": {},
   "source": [
    "### Following [this](https://gadgetron.discourse.group/t/reading-ismrmrd-image-type/322/4) suggestion from David Hansen"
   ]
  },
  {
   "cell_type": "code",
   "execution_count": null,
   "metadata": {},
   "outputs": [],
   "source": [
    "f = ismrmrd.File('reconstructed_data.h5')"
   ]
  },
  {
   "cell_type": "code",
   "execution_count": null,
   "metadata": {},
   "outputs": [],
   "source": [
    "# First, we need to find all image groups / sets within the ISMRMRD image HDF5 file\n",
    "\n",
    "image_sets = [f[image_set].images for image_set in f.find_images()]"
   ]
  },
  {
   "cell_type": "code",
   "execution_count": null,
   "metadata": {},
   "outputs": [],
   "source": [
    "len(image_sets)"
   ]
  },
  {
   "cell_type": "code",
   "execution_count": null,
   "metadata": {},
   "outputs": [],
   "source": [
    "# This should now tell us how many images are present within a give image group/set.\n",
    "# Should look up a better way to do this iteration.\n",
    "\n",
    "image_sets[0].headers.size"
   ]
  },
  {
   "cell_type": "code",
   "execution_count": null,
   "metadata": {},
   "outputs": [],
   "source": [
    "header_keys_for_nifti = [\n",
    "  \"matrix_size\",\n",
    "  \"slice\",\n",
    "  \"read_dir\",\n",
    "  \"phase_dir\",\n",
    "  \"slice_dir\",\n",
    "  \"position\",\n",
    "  \"repetition\",\n",
    "  \"contrast\",\n",
    "  \"data_type\",\n",
    "  \"image_type\",\n",
    "  \"channels\",\n",
    "  \"flags\"\n",
    "]\n",
    "\n",
    "# Iterate over all sets within the ISMRMRD file. This should generate 1 NIFTI file per group (to be later confirmed)\n",
    "for image_set in image_sets:\n",
    "   # Now iterate over all images within each set.  Hopefully each image within a set has the same dimensions\n",
    "   for j in range(image_set.headers.size):\n",
    "      for header_value_key in header_keys_for_nifti:\n",
    "         print (\"Header value %16s from image set %d is: %s\" % (header_value_key, j, image_set.headers[j][header_value_key]))"
   ]
  },
  {
   "cell_type": "markdown",
   "metadata": {},
   "source": [
    "### Now create NIFTI-1 dataset from one of the data arrays read in from the ISMRMRD image sets."
   ]
  },
  {
   "cell_type": "code",
   "execution_count": null,
   "metadata": {},
   "outputs": [],
   "source": [
    "# Transpose seems to be necessary to pack data properly\n",
    "\n",
    "nii_image_data = image_sets[0].data[0::].transpose(4,3,2,1,0)"
   ]
  },
  {
   "cell_type": "code",
   "execution_count": null,
   "metadata": {},
   "outputs": [],
   "source": [
    "# Now, create data set in memory from image data.  Should get basic data dimensions and data types.  This should\n",
    "# leave the geometry and position information to be computed and filled in.\n",
    "\n",
    "new_nii = nib.Nifti1Image(nii_image_data, None)"
   ]
  },
  {
   "cell_type": "code",
   "execution_count": null,
   "metadata": {},
   "outputs": [],
   "source": [
    "print(new_nii.header)"
   ]
  },
  {
   "cell_type": "code",
   "execution_count": null,
   "metadata": {},
   "outputs": [],
   "source": [
    "# Can access NIFTI header elements through keys, similar to how the ISMRMRD image header values above are accessed.\n",
    "\n",
    "new_nii.header['dim']"
   ]
  },
  {
   "cell_type": "code",
   "execution_count": null,
   "metadata": {},
   "outputs": [],
   "source": [
    "# Can change these, from ISMRMRD header values, as needed.\n",
    "\n",
    "new_nii.header['dim'] = [  5, 256, 256,   3,   1,   1,   1,   1]"
   ]
  },
  {
   "cell_type": "code",
   "execution_count": null,
   "metadata": {},
   "outputs": [],
   "source": [
    "nib.save(new_nii, 'new_test_nifti.nii')"
   ]
  }
 ],
 "metadata": {
  "kernelspec": {
   "display_name": "Python 3 (ipykernel)",
   "language": "python",
   "name": "python3"
  },
  "language_info": {
   "codemirror_mode": {
    "name": "ipython",
    "version": 3
   },
   "file_extension": ".py",
   "mimetype": "text/x-python",
   "name": "python",
   "nbconvert_exporter": "python",
   "pygments_lexer": "ipython3",
   "version": "3.7.11"
  }
 },
 "nbformat": 4,
 "nbformat_minor": 2
}
